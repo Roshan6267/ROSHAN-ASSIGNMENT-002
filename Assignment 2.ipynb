{
 "cells": [
  {
   "cell_type": "markdown",
   "id": "0081b8a5",
   "metadata": {},
   "source": [
    " 1. What is indentation error? Why indentation is important? Give one simple example\n",
    " #### Ans: The indentation error can occur when the spaces or tabs are not placed properly. There will not be an issue if the interpreter does not find any issues with the spaces or tabs. If there is an error due to indentation, it will come in between the execution and can be a show stopper."
   ]
  },
  {
   "cell_type": "code",
   "execution_count": 1,
   "id": "af35a406",
   "metadata": {},
   "outputs": [
    {
     "ename": "IndentationError",
     "evalue": "unexpected indent (975570465.py, line 2)",
     "output_type": "error",
     "traceback": [
      "\u001b[1;36m  File \u001b[1;32m\"C:\\Users\\urosh\\AppData\\Local\\Temp\\ipykernel_15796\\975570465.py\"\u001b[1;36m, line \u001b[1;32m2\u001b[0m\n\u001b[1;33m    print(name)\u001b[0m\n\u001b[1;37m    ^\u001b[0m\n\u001b[1;31mIndentationError\u001b[0m\u001b[1;31m:\u001b[0m unexpected indent\n"
     ]
    }
   ],
   "source": [
    "name = input(\"Enter your name: \")\n",
    "   print(name)"
   ]
  },
  {
   "cell_type": "markdown",
   "id": "75e41c96",
   "metadata": {},
   "source": [
    "2. Correct the following code and write the comment where you made the correction?\n",
    "\n",
    "  ```python\n",
    "  class_started = bool(input(\"Hey friend, is class started?: [0-False/1-True]\"))\n",
    "\n",
    "  if class_started:\n",
    "      print(\"Since class started...\")\n",
    "      print(\"Lets concentrate\")\n",
    "  else:\n",
    "      print(\"Since class is not started...\")\n",
    "      print(\"let's revise\")    \n",
    "  ```\n",
    "\n",
    "  **HINT:** Refer your data type conversion class"
   ]
  },
  {
   "cell_type": "code",
   "execution_count": null,
   "id": "9b0e2605",
   "metadata": {},
   "outputs": [],
   "source": [
    " class_started = input(\"Hey friend, is class started?: [0-False/1-True]\") #have removed the boolean conversion \n",
    " # it shows error because of previous indentation error   \n",
    "if class_started == \"1\" or class_started == \"True\":  # have added another if condition and a logical operator 'or' \n",
    "    \n",
    "    \n",
    " if class_started:  \n",
    "    print(\"Since class started...\")\n",
    "    print(\"Lets concentrate\")         \n",
    "else:\n",
    "    print(\"Since class is not started...\")\n",
    "    print(\"let's revise\")    "
   ]
  },
  {
   "cell_type": "markdown",
   "id": "03782b05",
   "metadata": {},
   "source": [
    "3. Use if else condition to verify that dataype of `input()` method in python is always string."
   ]
  },
  {
   "cell_type": "code",
   "execution_count": 26,
   "id": "4a26e0f8",
   "metadata": {},
   "outputs": [
    {
     "name": "stdout",
     "output_type": "stream",
     "text": [
      "Enter your name: Roshan Upadhyay\n",
      "correct name\n"
     ]
    }
   ],
   "source": [
    "name = input(\"Enter your name: \")\n",
    "if name == \"Roshan Upadhyay\":\n",
    "    print(\"correct name\")\n",
    "else:\n",
    "    print(\"incorrect\") # gives a string"
   ]
  },
  {
   "cell_type": "markdown",
   "id": "1c14cfa9",
   "metadata": {},
   "source": [
    "4. Take 3 variables and assign integer values to them. Find the largest variable, by only using the if and else conditions."
   ]
  },
  {
   "cell_type": "code",
   "execution_count": 50,
   "id": "4789fa07",
   "metadata": {},
   "outputs": [
    {
     "name": "stdout",
     "output_type": "stream",
     "text": [
      "A is greater\n"
     ]
    }
   ],
   "source": [
    "a = 30\n",
    "b = 12\n",
    "c = 9\n",
    "if (c < b):\n",
    "    if (b < a):\n",
    "        print(\"A is greater\")   \n",
    "    else:\n",
    "        print(\"B is greater\")\n",
    "else:\n",
    "    print(\"C is greater\")\n",
    "    "
   ]
  },
  {
   "cell_type": "code",
   "execution_count": 54,
   "id": "7e6fa954",
   "metadata": {},
   "outputs": [
    {
     "name": "stdout",
     "output_type": "stream",
     "text": [
      "B is greater than C\n",
      "A is greatest\n"
     ]
    }
   ],
   "source": [
    "# another method\n",
    "a = 30\n",
    "b = 12\n",
    "c = 9\n",
    "if (c < b):\n",
    "    print(\"B is greater than C\")\n",
    "    if (b < a):\n",
    "        print(\"A is greatest\")   \n",
    "    else:\n",
    "        print(\"B is greater\")\n",
    "else:\n",
    "    print(\"C is greater\")"
   ]
  },
  {
   "cell_type": "markdown",
   "id": "1e4ab699",
   "metadata": {},
   "source": [
    "5. What would be the solution?\n",
    "    1. True\n",
    "    2. False\n",
    "\n",
    "    ```python\n",
    "    a = 6\n",
    "    b = 10\n",
    "    print( not ( not a == 10 or not b == 10) )\n",
    "    ```"
   ]
  },
  {
   "cell_type": "markdown",
   "id": "f1ef0ca6",
   "metadata": {},
   "source": [
    "Ans: False"
   ]
  },
  {
   "cell_type": "markdown",
   "id": "706414af",
   "metadata": {},
   "source": [
    "6. Find the answer as well as find out the reason behind the result? -\n",
    "    - case 1:\n",
    "        ```python\n",
    "        A = 5.0\n",
    "        B = 10/2\n",
    "        print(A is B)\n",
    "        ```\n",
    "    - case 2:\n",
    "        ```python\n",
    "        A = 5.0\n",
    "        B = int(10/2)\n",
    "        print(A is B)\n",
    "        ```\n",
    "    - case 3:\n",
    "        ```python\n",
    "        A = 5.0\n",
    "        B = float(10/2)\n",
    "        print(A is B)\n",
    "        ```"
   ]
  },
  {
   "cell_type": "code",
   "execution_count": 8,
   "id": "c5c571bb",
   "metadata": {},
   "outputs": [
    {
     "name": "stdout",
     "output_type": "stream",
     "text": [
      "False\n"
     ]
    }
   ],
   "source": [
    "# case 1:\n",
    "A = 5.0\n",
    "B = 10/2\n",
    "print(A is B)"
   ]
  },
  {
   "cell_type": "markdown",
   "id": "0120cc11",
   "metadata": {},
   "source": [
    "A is float type number and B is integer.In pyhton, every code addresses the different memory location. Python only print the approximation decimal value of any number that's why the value is False."
   ]
  },
  {
   "cell_type": "code",
   "execution_count": 12,
   "id": "19ad8c62",
   "metadata": {},
   "outputs": [
    {
     "name": "stdout",
     "output_type": "stream",
     "text": [
      "False\n"
     ]
    }
   ],
   "source": [
    " # case 2:\n",
    "A = 5.0\n",
    "B = int(10/2)\n",
    "print(A is B)"
   ]
  },
  {
   "cell_type": "markdown",
   "id": "98967f1b",
   "metadata": {},
   "source": [
    "A is float type number with base 10 and B is arithmatic operation of integer that's why the value is false"
   ]
  },
  {
   "cell_type": "code",
   "execution_count": 14,
   "id": "162bcad3",
   "metadata": {},
   "outputs": [
    {
     "name": "stdout",
     "output_type": "stream",
     "text": [
      "False\n"
     ]
    }
   ],
   "source": [
    "# case 3:\n",
    "A = 5.0\n",
    "B = float(10/2)\n",
    "print(A is B)"
   ]
  },
  {
   "cell_type": "markdown",
   "id": "cc01314e",
   "metadata": {},
   "source": [
    "A is float type number with base 10 and the value in B is innteger which is convert into float type number therefore they address the different memory location"
   ]
  },
  {
   "cell_type": "markdown",
   "id": "d263f1e5",
   "metadata": {},
   "source": [
    "### Try to understand the following examples and answer the question based on it - \n",
    "    \n",
    "**Arithmatic Operators**\n",
    "\n",
    "|Operation|Meaning|\n",
    "|:-:|:-:|\n",
    "| **+** |addition|\n",
    "| **-** |subtraction|\n",
    "| **\\*** |multiplication|\n",
    "| **/** |true division|\n",
    "| **//** |integer division|\n",
    "| **%** |the modulo operator|\n",
    "\n",
    "\n",
    "Here `+`, `-`, `*`, `/` are regular arithmatic operators. Lets look at the `//` and `%` operators\n",
    "\n",
    "Usecase or examples - "
   ]
  },
  {
   "cell_type": "markdown",
   "id": "e80881e8",
   "metadata": {},
   "source": [
    "Usecase or examples - \n",
    "    \n",
    "```python\n",
    "var_a = 5\n",
    "var_b = 25\n",
    "integer_division = var_b // var_a\n",
    "print(f\"integer division: {var_b}/{var_a}={integer_division}\")\n",
    "```\n",
    "\n",
    "OUTPUT: integer division: 25/5=5\n",
    "\n",
    "```python\n",
    "var_a = 3\n",
    "var_b = 25\n",
    "integer_division = var_b // var_a\n",
    "print(f\"integer division: {var_b}/{var_a}={integer_division}\")\n",
    "```\n",
    "OUTPUT: integer division: 25/3=8\n",
    "\n",
    "```python\n",
    "var_a = 5\n",
    "var_b = 25\n",
    "remainder = var_b % var_a\n",
    "print(f\"remainder: {var_b}/{var_a} is {remainder}\")\n",
    "```\n",
    "\n",
    "OUTPUT: remainder: 25/5 is 0\n",
    "\n",
    "```python\n",
    "var_a = 3\n",
    "var_b = 25\n",
    "remainder = var_b % var_a\n",
    "print(f\"remainder: {var_b}/{var_a} is {remainder}\")\n",
    "```\n",
    "\n",
    "OUTPUT: remainder: 25/3 is 1"
   ]
  },
  {
   "cell_type": "markdown",
   "id": "9814b9ce",
   "metadata": {},
   "source": [
    "7. Write a program that asks the user to enter a number. You should print out a message to the user, either “That number is divisible by either 3 or 5”, or “That number is not divisible by either 3 or 5”. Be sure to consider the data type of the input you are taking in from the user. Use a single if/else block to solve this problem."
   ]
  },
  {
   "cell_type": "code",
   "execution_count": 9,
   "id": "c40ba691",
   "metadata": {},
   "outputs": [
    {
     "name": "stdout",
     "output_type": "stream",
     "text": [
      "Enter the number: 4\n",
      "the number is not divisible by 3 or 5\n"
     ]
    }
   ],
   "source": [
    "number = int(input(\"Enter the number: \"))\n",
    "if number % 3 == 0 or number % 5 == 0:\n",
    "    print(\"the number is divisible by 3 or 5\")\n",
    "else:\n",
    "    print(\"the number is not divisible by 3 or 5\")"
   ]
  },
  {
   "cell_type": "markdown",
   "id": "abfe27f9",
   "metadata": {},
   "source": [
    "8. Take user input for length and width. Then calculate the area of rectangle. Also print as per length and width whether its a square of rectangle."
   ]
  },
  {
   "cell_type": "code",
   "execution_count": 12,
   "id": "51753e9b",
   "metadata": {},
   "outputs": [
    {
     "name": "stdout",
     "output_type": "stream",
     "text": [
      "Enter the length of rectangle in meters: 11\n",
      "Enter the width of rectangle in meters: 11\n",
      "then it is a square\n"
     ]
    }
   ],
   "source": [
    "length = int(input(\"Enter the length of rectangle in meters: \"))\n",
    "width = int(input(\"Enter the width of rectangle in meters: \"))\n",
    "area = length * width\n",
    "\n",
    "if (length == width):\n",
    "    print(f\"then it is a square\")\n",
    "else:\n",
    "    print(f\"the area of rectangle is: {area}square meters\")\n"
   ]
  },
  {
   "cell_type": "markdown",
   "id": "cf770147",
   "metadata": {},
   "source": [
    "9. Take two variable radius_1 and radius_2 and calculate the area of circle_1 and circle_2. Also print which circle has large area. If area is equal then print area is equal."
   ]
  },
  {
   "cell_type": "code",
   "execution_count": 15,
   "id": "13ae2347",
   "metadata": {},
   "outputs": [
    {
     "name": "stdout",
     "output_type": "stream",
     "text": [
      "Enter the radius of first circle: 10\n",
      "Enter the radius of second circle: 9\n",
      "area_1 is larger than area_2\n"
     ]
    }
   ],
   "source": [
    "radius_1 = int(input(\"Enter the radius of first circle: \"))\n",
    "radius_2 = int(input(\"Enter the radius of second circle: \"))\n",
    "area_1 = (radius_1)**2\n",
    "area_2 = (radius_2)**2\n",
    "if area_1 == area_2:\n",
    "    print(f\"then area is equal\")\n",
    "else:\n",
    "    if area_1>area_2:\n",
    "        print(f\"area_1 is larger than area_2\")\n",
    "    else:\n",
    "        print(f\"area_2 is larger than area_1\")"
   ]
  },
  {
   "cell_type": "markdown",
   "id": "a6edfc24",
   "metadata": {},
   "source": [
    "10. Check whether a year is leap year or not. Use nested if...else to solve this problem. A leap year is exactly divisible by 4 except for century years (years ending with 00). The century year is a leap year only if it is perfectly divisible by 400."
   ]
  },
  {
   "cell_type": "code",
   "execution_count": 23,
   "id": "fcb3ea82",
   "metadata": {},
   "outputs": [
    {
     "name": "stdout",
     "output_type": "stream",
     "text": [
      "Enter a year: 400\n",
      "this year is a leap year\n"
     ]
    }
   ],
   "source": [
    "year = int(input(\"Enter a year: \"))\n",
    "\n",
    "if year % 4 == 0:\n",
    "    if year % 400 == 0:\n",
    "        print(f\"this year is a leap year\")\n",
    "    else:\n",
    "        print(f\"this year is not a leap year\")\n",
    "else:\n",
    "    print(f\"not a leap year\")"
   ]
  },
  {
   "cell_type": "code",
   "execution_count": null,
   "id": "b8f8f102",
   "metadata": {},
   "outputs": [],
   "source": []
  }
 ],
 "metadata": {
  "kernelspec": {
   "display_name": "Python 3 (ipykernel)",
   "language": "python",
   "name": "python3"
  },
  "language_info": {
   "codemirror_mode": {
    "name": "ipython",
    "version": 3
   },
   "file_extension": ".py",
   "mimetype": "text/x-python",
   "name": "python",
   "nbconvert_exporter": "python",
   "pygments_lexer": "ipython3",
   "version": "3.9.13"
  }
 },
 "nbformat": 4,
 "nbformat_minor": 5
}
